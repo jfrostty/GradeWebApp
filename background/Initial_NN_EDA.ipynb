{
 "cells": [
  {
   "cell_type": "markdown",
   "id": "3d623b74",
   "metadata": {},
   "source": [
    "# ECS 171 Project (Initial NN Model)\n",
    "\n",
    "# Notes about this process\n",
    "This was the first iteration of the neural network, which we trained using attributes that we believed to be linearly correlated (this was wrong). I initially loaded the dataset 'student-por.csv', created the correlation matrix, and then visualized it with a heatmap. This is when I selected the variables with the highest correlation, which intuitively made sense. The three attributes selected were 'failures', 'age', and 'G3', with 'failures' and 'age' as input attributes and 'G3' as the output variable.\n",
    "\n",
    "I then created a box plot to indicate the distribution of data points and identify outliers for each attribute.\n",
    "\n",
    "Subsequently, I developed the MLP regression neural network. After testing many learning rates, I found that the default learning rate of 0.01 yielded the best outcomes. 1000 iterations were over double the amount used in the model examples provided to us in class. The final result was a neural network with the following scores:\n",
    "\n",
    "Mean Square Error: 9.616546523353117\n",
    "R2 Score: 0.21491511845056166\n",
    "\n",
    "The high MSE and low R2 suggest that the neural network is not performing well. This could be because the model is underfitting and not capturing the data trends appropriately. It could also indicate that there is not a strong correlation between the variables (which is true since these attributes were linearly correlated in the 0.40 range).\n",
    "\n",
    "Hyperparameter tuning by trying variations of the parameters yielded almost identical results."
   ]
  },
  {
   "cell_type": "markdown",
   "id": "00207de0",
   "metadata": {},
   "source": [
    "# Table"
   ]
  },
  {
   "cell_type": "code",
   "execution_count": 1,
   "id": "640383a4",
   "metadata": {
    "tags": []
   },
   "outputs": [],
   "source": [
    "# Importing libraries\n",
    "import matplotlib.pyplot as plt\n",
    "import seaborn as sns\n",
    "import pandas as pd\n",
    "import numpy as np\n",
    "import plotly.express as px\n",
    "import plotly.figure_factory as ff\n",
    "import matplotlib.pyplot as plot\n",
    "\n",
    "from sklearn.model_selection import train_test_split\n",
    "from sklearn.metrics import classification_report, mean_squared_error\n",
    "from sklearn.preprocessing import PolynomialFeatures\n",
    "from sklearn.preprocessing import StandardScaler\n",
    "from sklearn.linear_model import LinearRegression\n",
    "from sklearn.linear_model import LogisticRegression\n",
    "from sklearn import preprocessing\n",
    "\n",
    "from IPython.display import display\n",
    "\n",
    "from sklearn.svm import OneClassSVM\n",
    "from numpy import where"
   ]
  },
  {
   "cell_type": "code",
   "execution_count": 2,
   "id": "4cfe349d",
   "metadata": {
    "scrolled": true,
    "tags": []
   },
   "outputs": [
    {
     "name": "stdout",
     "output_type": "stream",
     "text": [
      "    school sex  age address famsize Pstatus  Medu  Fedu      Mjob      Fjob  \\\n",
      "0       GP   F   18       U     GT3       A     4     4   at_home   teacher   \n",
      "1       GP   F   17       U     GT3       T     1     1   at_home     other   \n",
      "2       GP   F   15       U     LE3       T     1     1   at_home     other   \n",
      "3       GP   F   15       U     GT3       T     4     2    health  services   \n",
      "4       GP   F   16       U     GT3       T     3     3     other     other   \n",
      "..     ...  ..  ...     ...     ...     ...   ...   ...       ...       ...   \n",
      "644     MS   F   19       R     GT3       T     2     3  services     other   \n",
      "645     MS   F   18       U     LE3       T     3     1   teacher  services   \n",
      "646     MS   F   18       U     GT3       T     1     1     other     other   \n",
      "647     MS   M   17       U     LE3       T     3     1  services  services   \n",
      "648     MS   M   18       R     LE3       T     3     2  services     other   \n",
      "\n",
      "     reason guardian  traveltime  studytime  failures schoolsup famsup paid  \\\n",
      "0    course   mother           2          2         0       yes     no   no   \n",
      "1    course   father           1          2         0        no    yes   no   \n",
      "2     other   mother           1          2         0       yes     no   no   \n",
      "3      home   mother           1          3         0        no    yes   no   \n",
      "4      home   father           1          2         0        no    yes   no   \n",
      "..      ...      ...         ...        ...       ...       ...    ...  ...   \n",
      "644  course   mother           1          3         1        no     no   no   \n",
      "645  course   mother           1          2         0        no    yes   no   \n",
      "646  course   mother           2          2         0        no     no   no   \n",
      "647  course   mother           2          1         0        no     no   no   \n",
      "648  course   mother           3          1         0        no     no   no   \n",
      "\n",
      "    activities nursery higher internet romantic  famrel  freetime  goout  \\\n",
      "0           no     yes    yes       no       no       4         3      4   \n",
      "1           no      no    yes      yes       no       5         3      3   \n",
      "2           no     yes    yes      yes       no       4         3      2   \n",
      "3          yes     yes    yes      yes      yes       3         2      2   \n",
      "4           no     yes    yes       no       no       4         3      2   \n",
      "..         ...     ...    ...      ...      ...     ...       ...    ...   \n",
      "644        yes      no    yes      yes       no       5         4      2   \n",
      "645         no     yes    yes      yes       no       4         3      4   \n",
      "646        yes     yes    yes       no       no       1         1      1   \n",
      "647         no      no    yes      yes       no       2         4      5   \n",
      "648         no      no    yes      yes       no       4         4      1   \n",
      "\n",
      "     Dalc  Walc  health  absences  G1  G2  G3  \n",
      "0       1     1       3         4   0  11  11  \n",
      "1       1     1       3         2   9  11  11  \n",
      "2       2     3       3         6  12  13  12  \n",
      "3       1     1       5         0  14  14  14  \n",
      "4       1     2       5         0  11  13  13  \n",
      "..    ...   ...     ...       ...  ..  ..  ..  \n",
      "644     1     2       5         4  10  11  10  \n",
      "645     1     1       1         4  15  15  16  \n",
      "646     1     1       5         6  11  12   9  \n",
      "647     3     4       2         6  10  10  10  \n",
      "648     3     4       5         4  10  11  11  \n",
      "\n",
      "[649 rows x 33 columns]\n"
     ]
    }
   ],
   "source": [
    "alcTable = pd.read_csv('student-por.csv')\n",
    "pd.set_option('display.max_columns', None)\n",
    "print(alcTable)"
   ]
  },
  {
   "cell_type": "code",
   "execution_count": 11,
   "id": "a68c0b8c",
   "metadata": {
    "scrolled": true,
    "tags": []
   },
   "outputs": [
    {
     "ename": "ValueError",
     "evalue": "could not convert string to float: 'GP'",
     "output_type": "error",
     "traceback": [
      "\u001b[1;31m---------------------------------------------------------------------------\u001b[0m",
      "\u001b[1;31mValueError\u001b[0m                                Traceback (most recent call last)",
      "Cell \u001b[1;32mIn[11], line 2\u001b[0m\n\u001b[0;32m      1\u001b[0m \u001b[38;5;66;03m# Correlation Matrix\u001b[39;00m\n\u001b[1;32m----> 2\u001b[0m data \u001b[38;5;241m=\u001b[39m alcTable\u001b[38;5;241m.\u001b[39mcopy()\u001b[38;5;241m.\u001b[39mcorr()\n\u001b[0;32m      4\u001b[0m fig, ax \u001b[38;5;241m=\u001b[39m plt\u001b[38;5;241m.\u001b[39msubplots(figsize\u001b[38;5;241m=\u001b[39m(\u001b[38;5;241m20\u001b[39m, \u001b[38;5;241m10\u001b[39m))\n\u001b[0;32m      6\u001b[0m \u001b[38;5;66;03m# display pearson correlation matrix plot\u001b[39;00m\n",
      "File \u001b[1;32m~\\anaconda3\\Lib\\site-packages\\pandas\\core\\frame.py:10054\u001b[0m, in \u001b[0;36mDataFrame.corr\u001b[1;34m(self, method, min_periods, numeric_only)\u001b[0m\n\u001b[0;32m  10052\u001b[0m cols \u001b[38;5;241m=\u001b[39m data\u001b[38;5;241m.\u001b[39mcolumns\n\u001b[0;32m  10053\u001b[0m idx \u001b[38;5;241m=\u001b[39m cols\u001b[38;5;241m.\u001b[39mcopy()\n\u001b[1;32m> 10054\u001b[0m mat \u001b[38;5;241m=\u001b[39m data\u001b[38;5;241m.\u001b[39mto_numpy(dtype\u001b[38;5;241m=\u001b[39m\u001b[38;5;28mfloat\u001b[39m, na_value\u001b[38;5;241m=\u001b[39mnp\u001b[38;5;241m.\u001b[39mnan, copy\u001b[38;5;241m=\u001b[39m\u001b[38;5;28;01mFalse\u001b[39;00m)\n\u001b[0;32m  10056\u001b[0m \u001b[38;5;28;01mif\u001b[39;00m method \u001b[38;5;241m==\u001b[39m \u001b[38;5;124m\"\u001b[39m\u001b[38;5;124mpearson\u001b[39m\u001b[38;5;124m\"\u001b[39m:\n\u001b[0;32m  10057\u001b[0m     correl \u001b[38;5;241m=\u001b[39m libalgos\u001b[38;5;241m.\u001b[39mnancorr(mat, minp\u001b[38;5;241m=\u001b[39mmin_periods)\n",
      "File \u001b[1;32m~\\anaconda3\\Lib\\site-packages\\pandas\\core\\frame.py:1838\u001b[0m, in \u001b[0;36mDataFrame.to_numpy\u001b[1;34m(self, dtype, copy, na_value)\u001b[0m\n\u001b[0;32m   1836\u001b[0m \u001b[38;5;28;01mif\u001b[39;00m dtype \u001b[38;5;129;01mis\u001b[39;00m \u001b[38;5;129;01mnot\u001b[39;00m \u001b[38;5;28;01mNone\u001b[39;00m:\n\u001b[0;32m   1837\u001b[0m     dtype \u001b[38;5;241m=\u001b[39m np\u001b[38;5;241m.\u001b[39mdtype(dtype)\n\u001b[1;32m-> 1838\u001b[0m result \u001b[38;5;241m=\u001b[39m \u001b[38;5;28mself\u001b[39m\u001b[38;5;241m.\u001b[39m_mgr\u001b[38;5;241m.\u001b[39mas_array(dtype\u001b[38;5;241m=\u001b[39mdtype, copy\u001b[38;5;241m=\u001b[39mcopy, na_value\u001b[38;5;241m=\u001b[39mna_value)\n\u001b[0;32m   1839\u001b[0m \u001b[38;5;28;01mif\u001b[39;00m result\u001b[38;5;241m.\u001b[39mdtype \u001b[38;5;129;01mis\u001b[39;00m \u001b[38;5;129;01mnot\u001b[39;00m dtype:\n\u001b[0;32m   1840\u001b[0m     result \u001b[38;5;241m=\u001b[39m np\u001b[38;5;241m.\u001b[39marray(result, dtype\u001b[38;5;241m=\u001b[39mdtype, copy\u001b[38;5;241m=\u001b[39m\u001b[38;5;28;01mFalse\u001b[39;00m)\n",
      "File \u001b[1;32m~\\anaconda3\\Lib\\site-packages\\pandas\\core\\internals\\managers.py:1732\u001b[0m, in \u001b[0;36mBlockManager.as_array\u001b[1;34m(self, dtype, copy, na_value)\u001b[0m\n\u001b[0;32m   1730\u001b[0m         arr\u001b[38;5;241m.\u001b[39mflags\u001b[38;5;241m.\u001b[39mwriteable \u001b[38;5;241m=\u001b[39m \u001b[38;5;28;01mFalse\u001b[39;00m\n\u001b[0;32m   1731\u001b[0m \u001b[38;5;28;01melse\u001b[39;00m:\n\u001b[1;32m-> 1732\u001b[0m     arr \u001b[38;5;241m=\u001b[39m \u001b[38;5;28mself\u001b[39m\u001b[38;5;241m.\u001b[39m_interleave(dtype\u001b[38;5;241m=\u001b[39mdtype, na_value\u001b[38;5;241m=\u001b[39mna_value)\n\u001b[0;32m   1733\u001b[0m     \u001b[38;5;66;03m# The underlying data was copied within _interleave, so no need\u001b[39;00m\n\u001b[0;32m   1734\u001b[0m     \u001b[38;5;66;03m# to further copy if copy=True or setting na_value\u001b[39;00m\n\u001b[0;32m   1736\u001b[0m \u001b[38;5;28;01mif\u001b[39;00m na_value \u001b[38;5;129;01mis\u001b[39;00m \u001b[38;5;129;01mnot\u001b[39;00m lib\u001b[38;5;241m.\u001b[39mno_default:\n",
      "File \u001b[1;32m~\\anaconda3\\Lib\\site-packages\\pandas\\core\\internals\\managers.py:1794\u001b[0m, in \u001b[0;36mBlockManager._interleave\u001b[1;34m(self, dtype, na_value)\u001b[0m\n\u001b[0;32m   1792\u001b[0m     \u001b[38;5;28;01melse\u001b[39;00m:\n\u001b[0;32m   1793\u001b[0m         arr \u001b[38;5;241m=\u001b[39m blk\u001b[38;5;241m.\u001b[39mget_values(dtype)\n\u001b[1;32m-> 1794\u001b[0m     result[rl\u001b[38;5;241m.\u001b[39mindexer] \u001b[38;5;241m=\u001b[39m arr\n\u001b[0;32m   1795\u001b[0m     itemmask[rl\u001b[38;5;241m.\u001b[39mindexer] \u001b[38;5;241m=\u001b[39m \u001b[38;5;241m1\u001b[39m\n\u001b[0;32m   1797\u001b[0m \u001b[38;5;28;01mif\u001b[39;00m \u001b[38;5;129;01mnot\u001b[39;00m itemmask\u001b[38;5;241m.\u001b[39mall():\n",
      "\u001b[1;31mValueError\u001b[0m: could not convert string to float: 'GP'"
     ]
    }
   ],
   "source": [
    "# Correlation Matrix\n",
    "data = alcTable.copy().corr()\n",
    "\n",
    "fig, ax = plt.subplots(figsize=(20, 10))\n",
    "\n",
    "# display pearson correlation matrix plot\n",
    "pcmp = sns.heatmap(data, vmin=-1, vmax=1, center=0, annot=True, cmap= 'RdBu')"
   ]
  },
  {
   "cell_type": "code",
   "execution_count": null,
   "id": "a24d29a9",
   "metadata": {
    "tags": []
   },
   "outputs": [],
   "source": [
    "# BOX PLOTS\n",
    "\n",
    "# Load the data\n",
    "data = pd.read_csv('student-por.csv')\n",
    "\n",
    "# Creating boxplots\n",
    "plt.figure(figsize=(15, 5))\n",
    "\n",
    "# Boxplot for 'failures'\n",
    "plt.subplot(1, 3, 1)\n",
    "sns.boxplot(y=data['failures'])\n",
    "plt.title('Box plot of Failures')\n",
    "\n",
    "# Boxplot for 'age'\n",
    "plt.subplot(1, 3, 2)\n",
    "sns.boxplot(y=data['age'])\n",
    "plt.title('Box plot of Age')\n",
    "\n",
    "# Boxplot for 'G3'\n",
    "plt.subplot(1, 3, 3)\n",
    "sns.boxplot(y=data['G3'])\n",
    "plt.title('Box plot of G3')\n",
    "\n",
    "plt.tight_layout()\n",
    "plt.show()\n"
   ]
  },
  {
   "cell_type": "markdown",
   "id": "4c9534e2",
   "metadata": {},
   "source": [
    "Interesting points (greater than +-0.2 correlation):\n",
    "- failures and age\n",
    "- failures and grade "
   ]
  },
  {
   "cell_type": "markdown",
   "id": "12bd0327",
   "metadata": {},
   "source": [
    "# Initial NN\n",
    "Manually adjusted the parameters to yield the best score."
   ]
  },
  {
   "cell_type": "code",
   "execution_count": 5,
   "id": "cd4c7c4c",
   "metadata": {
    "tags": []
   },
   "outputs": [
    {
     "name": "stdout",
     "output_type": "stream",
     "text": [
      "Mean Square Error: 8.285799056613284\n",
      "R2 Score: 0.18701119909449848\n"
     ]
    }
   ],
   "source": [
    "from sklearn.model_selection import train_test_split\n",
    "from sklearn.preprocessing import StandardScaler\n",
    "from sklearn.neural_network import MLPRegressor\n",
    "from sklearn.metrics import mean_squared_error, r2_score\n",
    "\n",
    "data = pd.read_csv('student-por.csv')\n",
    "X = data[['failures', 'age']]\n",
    "y = data['G3']\n",
    "\n",
    "# Splitting the dataset into the Training set and Test set\n",
    "data_train, data_test, class_train, class_test = train_test_split(X, y, test_size=0.2)\n",
    "\n",
    "# Feature Scaling\n",
    "scaler = StandardScaler()\n",
    "data_train = scaler.fit_transform(data_train)\n",
    "data_test = scaler.transform(data_test)\n",
    "\n",
    "# Initializing the Neural Network for regression\n",
    "mlp = MLPRegressor(hidden_layer_sizes=(10, 10), learning_rate_init=0.01, max_iter=1000, solver='sgd', random_state=42)\n",
    "\n",
    "# Training the Neural Network\n",
    "mlp.fit(data_train, class_train)\n",
    "\n",
    "# Making predictions\n",
    "pred = mlp.predict(data_test)\n",
    "\n",
    "# Evaluating the model\n",
    "mse = mean_squared_error(class_test, pred)\n",
    "r2 = r2_score(class_test, pred)\n",
    "\n",
    "print(f\"Mean Square Error: {mse}\")\n",
    "print(f\"R2 Score: {r2}\")"
   ]
  },
  {
   "cell_type": "markdown",
   "id": "9c2c0854",
   "metadata": {},
   "source": [
    "# hypertuned NN"
   ]
  },
  {
   "cell_type": "code",
   "execution_count": 14,
   "id": "8b89d520",
   "metadata": {
    "tags": []
   },
   "outputs": [
    {
     "name": "stdout",
     "output_type": "stream",
     "text": [
      "Best parameters found:\n",
      " {'activation': 'tanh', 'alpha': 0.0001, 'hidden_layer_sizes': (10,), 'learning_rate': 'constant', 'solver': 'adam'}\n",
      "0.153 (+/-0.105) for {'activation': 'tanh', 'alpha': 0.0001, 'hidden_layer_sizes': (10,), 'learning_rate': 'constant', 'solver': 'sgd'}\n",
      "0.159 (+/-0.097) for {'activation': 'tanh', 'alpha': 0.0001, 'hidden_layer_sizes': (10,), 'learning_rate': 'constant', 'solver': 'adam'}\n",
      "0.159 (+/-0.109) for {'activation': 'tanh', 'alpha': 0.0001, 'hidden_layer_sizes': (10,), 'learning_rate': 'adaptive', 'solver': 'sgd'}\n",
      "0.159 (+/-0.097) for {'activation': 'tanh', 'alpha': 0.0001, 'hidden_layer_sizes': (10,), 'learning_rate': 'adaptive', 'solver': 'adam'}\n",
      "0.152 (+/-0.095) for {'activation': 'tanh', 'alpha': 0.0001, 'hidden_layer_sizes': (50,), 'learning_rate': 'constant', 'solver': 'sgd'}\n",
      "0.158 (+/-0.077) for {'activation': 'tanh', 'alpha': 0.0001, 'hidden_layer_sizes': (50,), 'learning_rate': 'constant', 'solver': 'adam'}\n",
      "0.150 (+/-0.098) for {'activation': 'tanh', 'alpha': 0.0001, 'hidden_layer_sizes': (50,), 'learning_rate': 'adaptive', 'solver': 'sgd'}\n",
      "0.158 (+/-0.077) for {'activation': 'tanh', 'alpha': 0.0001, 'hidden_layer_sizes': (50,), 'learning_rate': 'adaptive', 'solver': 'adam'}\n",
      "0.134 (+/-0.085) for {'activation': 'tanh', 'alpha': 0.0001, 'hidden_layer_sizes': (100,), 'learning_rate': 'constant', 'solver': 'sgd'}\n",
      "0.144 (+/-0.101) for {'activation': 'tanh', 'alpha': 0.0001, 'hidden_layer_sizes': (100,), 'learning_rate': 'constant', 'solver': 'adam'}\n",
      "0.137 (+/-0.100) for {'activation': 'tanh', 'alpha': 0.0001, 'hidden_layer_sizes': (100,), 'learning_rate': 'adaptive', 'solver': 'sgd'}\n",
      "0.144 (+/-0.101) for {'activation': 'tanh', 'alpha': 0.0001, 'hidden_layer_sizes': (100,), 'learning_rate': 'adaptive', 'solver': 'adam'}\n",
      "0.153 (+/-0.105) for {'activation': 'tanh', 'alpha': 0.05, 'hidden_layer_sizes': (10,), 'learning_rate': 'constant', 'solver': 'sgd'}\n",
      "0.159 (+/-0.096) for {'activation': 'tanh', 'alpha': 0.05, 'hidden_layer_sizes': (10,), 'learning_rate': 'constant', 'solver': 'adam'}\n",
      "0.159 (+/-0.109) for {'activation': 'tanh', 'alpha': 0.05, 'hidden_layer_sizes': (10,), 'learning_rate': 'adaptive', 'solver': 'sgd'}\n",
      "0.159 (+/-0.096) for {'activation': 'tanh', 'alpha': 0.05, 'hidden_layer_sizes': (10,), 'learning_rate': 'adaptive', 'solver': 'adam'}\n",
      "0.152 (+/-0.095) for {'activation': 'tanh', 'alpha': 0.05, 'hidden_layer_sizes': (50,), 'learning_rate': 'constant', 'solver': 'sgd'}\n",
      "0.158 (+/-0.077) for {'activation': 'tanh', 'alpha': 0.05, 'hidden_layer_sizes': (50,), 'learning_rate': 'constant', 'solver': 'adam'}\n",
      "0.150 (+/-0.098) for {'activation': 'tanh', 'alpha': 0.05, 'hidden_layer_sizes': (50,), 'learning_rate': 'adaptive', 'solver': 'sgd'}\n",
      "0.158 (+/-0.077) for {'activation': 'tanh', 'alpha': 0.05, 'hidden_layer_sizes': (50,), 'learning_rate': 'adaptive', 'solver': 'adam'}\n",
      "0.131 (+/-0.087) for {'activation': 'tanh', 'alpha': 0.05, 'hidden_layer_sizes': (100,), 'learning_rate': 'constant', 'solver': 'sgd'}\n",
      "0.144 (+/-0.101) for {'activation': 'tanh', 'alpha': 0.05, 'hidden_layer_sizes': (100,), 'learning_rate': 'constant', 'solver': 'adam'}\n",
      "0.136 (+/-0.101) for {'activation': 'tanh', 'alpha': 0.05, 'hidden_layer_sizes': (100,), 'learning_rate': 'adaptive', 'solver': 'sgd'}\n",
      "0.144 (+/-0.101) for {'activation': 'tanh', 'alpha': 0.05, 'hidden_layer_sizes': (100,), 'learning_rate': 'adaptive', 'solver': 'adam'}\n",
      "0.143 (+/-0.085) for {'activation': 'relu', 'alpha': 0.0001, 'hidden_layer_sizes': (10,), 'learning_rate': 'constant', 'solver': 'sgd'}\n",
      "0.134 (+/-0.128) for {'activation': 'relu', 'alpha': 0.0001, 'hidden_layer_sizes': (10,), 'learning_rate': 'constant', 'solver': 'adam'}\n",
      "0.145 (+/-0.101) for {'activation': 'relu', 'alpha': 0.0001, 'hidden_layer_sizes': (10,), 'learning_rate': 'adaptive', 'solver': 'sgd'}\n",
      "0.134 (+/-0.128) for {'activation': 'relu', 'alpha': 0.0001, 'hidden_layer_sizes': (10,), 'learning_rate': 'adaptive', 'solver': 'adam'}\n",
      "0.140 (+/-0.087) for {'activation': 'relu', 'alpha': 0.0001, 'hidden_layer_sizes': (50,), 'learning_rate': 'constant', 'solver': 'sgd'}\n",
      "0.131 (+/-0.148) for {'activation': 'relu', 'alpha': 0.0001, 'hidden_layer_sizes': (50,), 'learning_rate': 'constant', 'solver': 'adam'}\n",
      "0.151 (+/-0.098) for {'activation': 'relu', 'alpha': 0.0001, 'hidden_layer_sizes': (50,), 'learning_rate': 'adaptive', 'solver': 'sgd'}\n",
      "0.131 (+/-0.148) for {'activation': 'relu', 'alpha': 0.0001, 'hidden_layer_sizes': (50,), 'learning_rate': 'adaptive', 'solver': 'adam'}\n",
      "0.152 (+/-0.118) for {'activation': 'relu', 'alpha': 0.0001, 'hidden_layer_sizes': (100,), 'learning_rate': 'constant', 'solver': 'sgd'}\n",
      "0.128 (+/-0.147) for {'activation': 'relu', 'alpha': 0.0001, 'hidden_layer_sizes': (100,), 'learning_rate': 'constant', 'solver': 'adam'}\n",
      "0.155 (+/-0.097) for {'activation': 'relu', 'alpha': 0.0001, 'hidden_layer_sizes': (100,), 'learning_rate': 'adaptive', 'solver': 'sgd'}\n",
      "0.128 (+/-0.147) for {'activation': 'relu', 'alpha': 0.0001, 'hidden_layer_sizes': (100,), 'learning_rate': 'adaptive', 'solver': 'adam'}\n",
      "0.143 (+/-0.084) for {'activation': 'relu', 'alpha': 0.05, 'hidden_layer_sizes': (10,), 'learning_rate': 'constant', 'solver': 'sgd'}\n",
      "0.140 (+/-0.117) for {'activation': 'relu', 'alpha': 0.05, 'hidden_layer_sizes': (10,), 'learning_rate': 'constant', 'solver': 'adam'}\n",
      "0.145 (+/-0.101) for {'activation': 'relu', 'alpha': 0.05, 'hidden_layer_sizes': (10,), 'learning_rate': 'adaptive', 'solver': 'sgd'}\n",
      "0.140 (+/-0.117) for {'activation': 'relu', 'alpha': 0.05, 'hidden_layer_sizes': (10,), 'learning_rate': 'adaptive', 'solver': 'adam'}\n",
      "0.140 (+/-0.086) for {'activation': 'relu', 'alpha': 0.05, 'hidden_layer_sizes': (50,), 'learning_rate': 'constant', 'solver': 'sgd'}\n",
      "0.132 (+/-0.147) for {'activation': 'relu', 'alpha': 0.05, 'hidden_layer_sizes': (50,), 'learning_rate': 'constant', 'solver': 'adam'}\n",
      "0.151 (+/-0.096) for {'activation': 'relu', 'alpha': 0.05, 'hidden_layer_sizes': (50,), 'learning_rate': 'adaptive', 'solver': 'sgd'}\n",
      "0.132 (+/-0.147) for {'activation': 'relu', 'alpha': 0.05, 'hidden_layer_sizes': (50,), 'learning_rate': 'adaptive', 'solver': 'adam'}\n",
      "0.152 (+/-0.118) for {'activation': 'relu', 'alpha': 0.05, 'hidden_layer_sizes': (100,), 'learning_rate': 'constant', 'solver': 'sgd'}\n",
      "0.126 (+/-0.143) for {'activation': 'relu', 'alpha': 0.05, 'hidden_layer_sizes': (100,), 'learning_rate': 'constant', 'solver': 'adam'}\n",
      "0.155 (+/-0.097) for {'activation': 'relu', 'alpha': 0.05, 'hidden_layer_sizes': (100,), 'learning_rate': 'adaptive', 'solver': 'sgd'}\n",
      "0.126 (+/-0.143) for {'activation': 'relu', 'alpha': 0.05, 'hidden_layer_sizes': (100,), 'learning_rate': 'adaptive', 'solver': 'adam'}\n"
     ]
    },
    {
     "data": {
      "image/png": "[encoded data removed]",
      "text/plain": [
       "<Figure size 600x400 with 1 Axes>"
      ]
     },
     "metadata": {},
     "output_type": "display_data"
    },
    {
     "name": "stdout",
     "output_type": "stream",
     "text": [
      "Mean Square Error: 8.285799056613284\n",
      "R2 Score: 0.18701119909449848\n",
      "Optimized Mean Squared Error: 8.222328244739105\n",
      "Optimized R2 Score: 0.19323884942556735\n"
     ]
    }
   ],
   "source": [
    "from sklearn.neural_network import MLPRegressor\n",
    "from sklearn.model_selection import GridSearchCV\n",
    "from sklearn.metrics import mean_squared_error, r2_score, confusion_matrix\n",
    "import seaborn as sns\n",
    "import matplotlib.pyplot as plt\n",
    "\n",
    "import warnings\n",
    "\n",
    "# Suppress all warnings\n",
    "warnings.filterwarnings('ignore')\n",
    "\n",
    "# Define a grid of parameters over which to optimize the MLP\n",
    "parameter_space = {\n",
    "    'hidden_layer_sizes': [(10,), (50,), (100,)],\n",
    "    'activation': ['tanh', 'relu'],\n",
    "    'solver': ['sgd', 'adam'],\n",
    "    'alpha': [0.0001, 0.05],\n",
    "    'learning_rate': ['constant', 'adaptive'],\n",
    "}\n",
    "\n",
    "mlp = MLPRegressor(max_iter=1000, random_state=42)\n",
    "\n",
    "# Run grid search with cross-validation\n",
    "clf = GridSearchCV(mlp, parameter_space, n_jobs=-1, cv=5)\n",
    "clf.fit(data_train, class_train)\n",
    "\n",
    "# Best parameter set\n",
    "print('Best parameters found:\\n', clf.best_params_)\n",
    "\n",
    "# All results\n",
    "means = clf.cv_results_['mean_test_score']\n",
    "stds = clf.cv_results_['std_test_score']\n",
    "for mean, std, params in zip(means, stds, clf.cv_results_['params']):\n",
    "    print(f\"{mean:.3f} (+/-{std * 2:.3f}) for {params}\")\n",
    "\n",
    "# Making predictions with the best found parameters\n",
    "pred = clf.predict(data_test)\n",
    "\n",
    "# Evaluating the model\n",
    "mse = mean_squared_error(class_test, pred)\n",
    "r2 = r2_score(class_test, pred)\n",
    "\n",
    "# Generating confusion matrix\n",
    "cm = confusion_matrix(class_test, pred.round())  # Assuming a binary classification problem\n",
    "\n",
    "# Plotting confusion matrix\n",
    "plt.figure(figsize=(6, 4))\n",
    "sns.heatmap(cm, annot=True, fmt='d', cmap='Blues', cbar=False)\n",
    "plt.xlabel('Predicted')\n",
    "plt.ylabel('True')\n",
    "plt.title('Confusion Matrix')\n",
    "plt.show()\n",
    "\n",
    "print(f\"Mean Square Error: 8.285799056613284\")\n",
    "print(f\"R2 Score: 0.18701119909449848\")\n",
    "print(f\"Optimized Mean Squared Error: {mse}\")\n",
    "print(f\"Optimized R2 Score: {r2}\")\n"
   ]
  },
  {
   "cell_type": "markdown",
   "id": "21d8c9d7",
   "metadata": {},
   "source": [
    "Vitually the same results as the previous model training. The high MSE and low R2 suggest that the NN is not performing well. This could be because the model is underfitting, not capturing the data trends appropiately. It can also indicate that there is not a strong correlation between the variables (which is true because these atttributes were linearly correlated in the .40 range)."
   ]
  }
 ],
 "metadata": {
  "kernelspec": {
   "display_name": "Python 3 (ipykernel)",
   "language": "python",
   "name": "python3"
  },
  "language_info": {
   "codemirror_mode": {
    "name": "ipython",
    "version": 3
   },
   "file_extension": ".py",
   "mimetype": "text/x-python",
   "name": "python",
   "nbconvert_exporter": "python",
   "pygments_lexer": "ipython3",
   "version": "3.11.5"
  }
 },
 "nbformat": 4,
 "nbformat_minor": 5
}
